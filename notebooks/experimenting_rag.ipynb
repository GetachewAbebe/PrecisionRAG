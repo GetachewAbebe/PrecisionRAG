{
 "cells": [
  {
   "cell_type": "code",
   "execution_count": 1,
   "metadata": {},
   "outputs": [
    {
     "name": "stdout",
     "output_type": "stream",
     "text": [
      "Requirement already satisfied: langchain in /home/getachew/Documents/10_Academy/Week_7/PrecisionRAG/rag_env/lib/python3.10/site-packages (0.2.2)\n",
      "Requirement already satisfied: langchain_community in /home/getachew/Documents/10_Academy/Week_7/PrecisionRAG/rag_env/lib/python3.10/site-packages (0.2.3)\n",
      "Requirement already satisfied: PyYAML>=5.3 in /home/getachew/Documents/10_Academy/Week_7/PrecisionRAG/rag_env/lib/python3.10/site-packages (from langchain) (6.0.1)\n",
      "Requirement already satisfied: SQLAlchemy<3,>=1.4 in /home/getachew/Documents/10_Academy/Week_7/PrecisionRAG/rag_env/lib/python3.10/site-packages (from langchain) (1.4.52)\n",
      "Requirement already satisfied: aiohttp<4.0.0,>=3.8.3 in /home/getachew/Documents/10_Academy/Week_7/PrecisionRAG/rag_env/lib/python3.10/site-packages (from langchain) (3.9.5)\n",
      "Requirement already satisfied: async-timeout<5.0.0,>=4.0.0 in /home/getachew/Documents/10_Academy/Week_7/PrecisionRAG/rag_env/lib/python3.10/site-packages (from langchain) (4.0.3)\n",
      "Requirement already satisfied: langchain-core<0.3.0,>=0.2.0 in /home/getachew/Documents/10_Academy/Week_7/PrecisionRAG/rag_env/lib/python3.10/site-packages (from langchain) (0.2.4)\n",
      "Requirement already satisfied: langchain-text-splitters<0.3.0,>=0.2.0 in /home/getachew/Documents/10_Academy/Week_7/PrecisionRAG/rag_env/lib/python3.10/site-packages (from langchain) (0.2.1)\n",
      "Requirement already satisfied: langsmith<0.2.0,>=0.1.17 in /home/getachew/Documents/10_Academy/Week_7/PrecisionRAG/rag_env/lib/python3.10/site-packages (from langchain) (0.1.74)\n",
      "Requirement already satisfied: numpy<2,>=1 in /home/getachew/Documents/10_Academy/Week_7/PrecisionRAG/rag_env/lib/python3.10/site-packages (from langchain) (1.23.5)\n",
      "Requirement already satisfied: pydantic<3,>=1 in /home/getachew/Documents/10_Academy/Week_7/PrecisionRAG/rag_env/lib/python3.10/site-packages (from langchain) (1.10.15)\n",
      "Requirement already satisfied: requests<3,>=2 in /home/getachew/Documents/10_Academy/Week_7/PrecisionRAG/rag_env/lib/python3.10/site-packages (from langchain) (2.32.3)\n",
      "Requirement already satisfied: tenacity<9.0.0,>=8.1.0 in /home/getachew/Documents/10_Academy/Week_7/PrecisionRAG/rag_env/lib/python3.10/site-packages (from langchain) (8.3.0)\n",
      "Requirement already satisfied: dataclasses-json<0.7,>=0.5.7 in /home/getachew/Documents/10_Academy/Week_7/PrecisionRAG/rag_env/lib/python3.10/site-packages (from langchain_community) (0.5.14)\n",
      "Requirement already satisfied: aiosignal>=1.1.2 in /home/getachew/Documents/10_Academy/Week_7/PrecisionRAG/rag_env/lib/python3.10/site-packages (from aiohttp<4.0.0,>=3.8.3->langchain) (1.3.1)\n",
      "Requirement already satisfied: attrs>=17.3.0 in /home/getachew/Documents/10_Academy/Week_7/PrecisionRAG/rag_env/lib/python3.10/site-packages (from aiohttp<4.0.0,>=3.8.3->langchain) (23.2.0)\n",
      "Requirement already satisfied: frozenlist>=1.1.1 in /home/getachew/Documents/10_Academy/Week_7/PrecisionRAG/rag_env/lib/python3.10/site-packages (from aiohttp<4.0.0,>=3.8.3->langchain) (1.4.1)\n",
      "Requirement already satisfied: multidict<7.0,>=4.5 in /home/getachew/Documents/10_Academy/Week_7/PrecisionRAG/rag_env/lib/python3.10/site-packages (from aiohttp<4.0.0,>=3.8.3->langchain) (6.0.5)\n",
      "Requirement already satisfied: yarl<2.0,>=1.0 in /home/getachew/Documents/10_Academy/Week_7/PrecisionRAG/rag_env/lib/python3.10/site-packages (from aiohttp<4.0.0,>=3.8.3->langchain) (1.9.4)\n",
      "Requirement already satisfied: marshmallow<4.0.0,>=3.18.0 in /home/getachew/Documents/10_Academy/Week_7/PrecisionRAG/rag_env/lib/python3.10/site-packages (from dataclasses-json<0.7,>=0.5.7->langchain_community) (3.21.3)\n",
      "Requirement already satisfied: typing-inspect<1,>=0.4.0 in /home/getachew/Documents/10_Academy/Week_7/PrecisionRAG/rag_env/lib/python3.10/site-packages (from dataclasses-json<0.7,>=0.5.7->langchain_community) (0.9.0)\n",
      "Requirement already satisfied: jsonpatch<2.0,>=1.33 in /home/getachew/Documents/10_Academy/Week_7/PrecisionRAG/rag_env/lib/python3.10/site-packages (from langchain-core<0.3.0,>=0.2.0->langchain) (1.33)\n",
      "Requirement already satisfied: packaging<24.0,>=23.2 in /home/getachew/Documents/10_Academy/Week_7/PrecisionRAG/rag_env/lib/python3.10/site-packages (from langchain-core<0.3.0,>=0.2.0->langchain) (23.2)\n",
      "Requirement already satisfied: orjson<4.0.0,>=3.9.14 in /home/getachew/Documents/10_Academy/Week_7/PrecisionRAG/rag_env/lib/python3.10/site-packages (from langsmith<0.2.0,>=0.1.17->langchain) (3.10.3)\n",
      "Requirement already satisfied: typing-extensions>=4.2.0 in /home/getachew/Documents/10_Academy/Week_7/PrecisionRAG/rag_env/lib/python3.10/site-packages (from pydantic<3,>=1->langchain) (4.12.1)\n",
      "Requirement already satisfied: charset-normalizer<4,>=2 in /home/getachew/Documents/10_Academy/Week_7/PrecisionRAG/rag_env/lib/python3.10/site-packages (from requests<3,>=2->langchain) (3.3.2)\n",
      "Requirement already satisfied: idna<4,>=2.5 in /home/getachew/Documents/10_Academy/Week_7/PrecisionRAG/rag_env/lib/python3.10/site-packages (from requests<3,>=2->langchain) (3.7)\n",
      "Requirement already satisfied: urllib3<3,>=1.21.1 in /home/getachew/Documents/10_Academy/Week_7/PrecisionRAG/rag_env/lib/python3.10/site-packages (from requests<3,>=2->langchain) (2.2.1)\n",
      "Requirement already satisfied: certifi>=2017.4.17 in /home/getachew/Documents/10_Academy/Week_7/PrecisionRAG/rag_env/lib/python3.10/site-packages (from requests<3,>=2->langchain) (2024.6.2)\n",
      "Requirement already satisfied: greenlet!=0.4.17 in /home/getachew/Documents/10_Academy/Week_7/PrecisionRAG/rag_env/lib/python3.10/site-packages (from SQLAlchemy<3,>=1.4->langchain) (3.0.3)\n",
      "Requirement already satisfied: jsonpointer>=1.9 in /home/getachew/Documents/10_Academy/Week_7/PrecisionRAG/rag_env/lib/python3.10/site-packages (from jsonpatch<2.0,>=1.33->langchain-core<0.3.0,>=0.2.0->langchain) (2.4)\n",
      "Requirement already satisfied: mypy-extensions>=0.3.0 in /home/getachew/Documents/10_Academy/Week_7/PrecisionRAG/rag_env/lib/python3.10/site-packages (from typing-inspect<1,>=0.4.0->dataclasses-json<0.7,>=0.5.7->langchain_community) (1.0.0)\n"
     ]
    }
   ],
   "source": [
    "! pip install langchain langchain_community"
   ]
  },
  {
   "cell_type": "code",
   "execution_count": 2,
   "metadata": {},
   "outputs": [],
   "source": [
    "import os\n",
    "import sys\n",
    "import json\n",
    "OPENAI_API_KEY=os.getenv(\"OPENAI_API_KEY\") \n",
    "from langchain.chat_models import ChatOpenAI\n",
    "from langchain_community.document_loaders import PyPDFLoader\n",
    "from langchain_community.vectorstores import FAISS\n",
    "from langchain.embeddings.openai import OpenAIEmbeddings"
   ]
  },
  {
   "cell_type": "code",
   "execution_count": 3,
   "metadata": {},
   "outputs": [],
   "source": [
    "loader = PyPDFLoader(\"../data/10_Academy_Week_7_Challenge_Document.pdf\")\n",
    "pages = loader.load_and_split()"
   ]
  },
  {
   "cell_type": "code",
   "execution_count": 4,
   "metadata": {},
   "outputs": [
    {
     "name": "stderr",
     "output_type": "stream",
     "text": [
      "/home/getachew/Documents/10_Academy/Week_7/PrecisionRAG/rag_env/lib/python3.10/site-packages/langchain_core/_api/deprecation.py:119: LangChainDeprecationWarning: The class `OpenAIEmbeddings` was deprecated in LangChain 0.0.9 and will be removed in 0.3.0. An updated version of the class exists in the langchain-openai package and should be used instead. To use it run `pip install -U langchain-openai` and import as `from langchain_openai import OpenAIEmbeddings`.\n",
      "  warn_deprecated(\n"
     ]
    }
   ],
   "source": [
    "faiss_index = FAISS.from_documents(pages, OpenAIEmbeddings())"
   ]
  },
  {
   "cell_type": "code",
   "execution_count": 5,
   "metadata": {},
   "outputs": [],
   "source": [
    "def retrieve_context(user_query):\n",
    "    \"\"\"\n",
    "    Retrieves relevant context from the knowledge base based on user input.\n",
    "\n",
    "    Args:\n",
    "        user_query (str): The user's search query.\n",
    "\n",
    "    Returns:\n",
    "        list: A list of retrieved documents.\n",
    "    \"\"\"\n",
    "    docs = retriever.get_relevant_documents(user_query)\n",
    "    print(f\"\\nRetrieved content based on '{user_query}':\")\n",
    "    pretty_print_docs(docs)\n",
    "    \n",
    "    current_dir = os.path.dirname(__file__)\n",
    "    folder_path = os.path.join(current_dir, 'prompts')\n",
    "    file_path = os.path.join(folder_path, 'context.txt')\n",
    "    \n",
    "    os.makedirs(folder_path, exist_ok=True)  # Create the directory if it doesn't exist\n",
    "    \n",
    "    with open(file_path, 'w') as file:\n",
    "        for document in docs:\n",
    "            file.write(document.page_content + \"\\n\")\n",
    "    print(f\"Saved page content to: {file_path}\")\n",
    "    print(os.listdir(folder_path))\n",
    "    return docs"
   ]
  },
  {
   "cell_type": "code",
   "execution_count": 6,
   "metadata": {},
   "outputs": [
    {
     "name": "stderr",
     "output_type": "stream",
     "text": [
      "/home/getachew/Documents/10_Academy/Week_7/PrecisionRAG/rag_env/lib/python3.10/site-packages/langchain_core/_api/deprecation.py:119: LangChainDeprecationWarning: The class `ChatOpenAI` was deprecated in LangChain 0.0.10 and will be removed in 0.3.0. An updated version of the class exists in the langchain-openai package and should be used instead. To use it run `pip install -U langchain-openai` and import as `from langchain_openai import ChatOpenAI`.\n",
      "  warn_deprecated(\n"
     ]
    },
    {
     "ename": "AttributeError",
     "evalue": "'ChatOpenAI' object has no attribute 'ask'",
     "output_type": "error",
     "traceback": [
      "\u001b[0;31m---------------------------------------------------------------------------\u001b[0m",
      "\u001b[0;31mAttributeError\u001b[0m                            Traceback (most recent call last)",
      "Cell \u001b[0;32mIn[6], line 9\u001b[0m\n\u001b[1;32m      2\u001b[0m \u001b[38;5;28;01mfrom\u001b[39;00m \u001b[38;5;21;01mlangchain\u001b[39;00m\u001b[38;5;21;01m.\u001b[39;00m\u001b[38;5;21;01mchat_models\u001b[39;00m \u001b[38;5;28;01mimport\u001b[39;00m ChatOpenAI\n\u001b[1;32m      4\u001b[0m chat \u001b[38;5;241m=\u001b[39m ChatOpenAI(\n\u001b[1;32m      5\u001b[0m     openai_api_key\u001b[38;5;241m=\u001b[39mos\u001b[38;5;241m.\u001b[39mgetenv(\u001b[38;5;124m\"\u001b[39m\u001b[38;5;124mOPENAI_API_KEY\u001b[39m\u001b[38;5;124m\"\u001b[39m),\n\u001b[1;32m      6\u001b[0m     model\u001b[38;5;241m=\u001b[39m\u001b[38;5;124m'\u001b[39m\u001b[38;5;124mgpt-3.5-turbo\u001b[39m\u001b[38;5;124m'\u001b[39m\n\u001b[1;32m      7\u001b[0m )\n\u001b[0;32m----> 9\u001b[0m response \u001b[38;5;241m=\u001b[39m \u001b[43mchat\u001b[49m\u001b[38;5;241;43m.\u001b[39;49m\u001b[43mask\u001b[49m(\u001b[38;5;124m\"\u001b[39m\u001b[38;5;124mHello, how are you?\u001b[39m\u001b[38;5;124m\"\u001b[39m)\n\u001b[1;32m     10\u001b[0m \u001b[38;5;28mprint\u001b[39m(response)\n",
      "\u001b[0;31mAttributeError\u001b[0m: 'ChatOpenAI' object has no attribute 'ask'"
     ]
    }
   ],
   "source": [
    "import os\n",
    "from langchain.chat_models import ChatOpenAI\n",
    "\n",
    "chat = ChatOpenAI(\n",
    "    openai_api_key=os.getenv(\"OPENAI_API_KEY\"),\n",
    "    model='gpt-3.5-turbo'\n",
    ")\n",
    "\n",
    "response = chat.ask(\"Hello, how are you?\")\n",
    "print(response)\n"
   ]
  }
 ],
 "metadata": {
  "kernelspec": {
   "display_name": "rag_env",
   "language": "python",
   "name": "python3"
  },
  "language_info": {
   "codemirror_mode": {
    "name": "ipython",
    "version": 3
   },
   "file_extension": ".py",
   "mimetype": "text/x-python",
   "name": "python",
   "nbconvert_exporter": "python",
   "pygments_lexer": "ipython3",
   "version": "3.10.12"
  }
 },
 "nbformat": 4,
 "nbformat_minor": 2
}
