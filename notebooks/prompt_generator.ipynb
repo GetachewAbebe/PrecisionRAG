{
 "cells": [
  {
   "cell_type": "code",
   "execution_count": 1,
   "metadata": {},
   "outputs": [],
   "source": [
    "import random"
   ]
  },
  {
   "cell_type": "code",
   "execution_count": 2,
   "metadata": {},
   "outputs": [],
   "source": [
    "def monte_carlo_eval(prompt):\n",
    "    # Simulating different types of responses\n",
    "    response_types = ['highly relevant', 'somewhat relevant', 'irrelevant']\n",
    "    scores = {'highly relevant': 3, 'somewhat relevant': 2, 'irrelevant': 1}\n",
    "\n",
    "    # Perform multiple random trials\n",
    "    trials = 100\n",
    "    total_score = 0\n",
    "    for _ in range(trials):\n",
    "        response = random.choice(response_types)\n",
    "        total_score += scores[response]\n",
    "\n",
    "    # Average score represents the evaluation\n",
    "    return total_score / trials\n",
    "\n",
    "def elo_eval(prompt, base_rating=1500):\n",
    "    # Simulate the outcome of the prompt against standard criteria\n",
    "    # Here, we randomly decide if the prompt 'wins', 'loses', or 'draws'\n",
    "    outcomes = ['win', 'loss', 'draw']\n",
    "    outcome = random.choice(outcomes)\n",
    "\n",
    "    # Elo rating formula parameters\n",
    "    K = 30  # Maximum change in rating\n",
    "    R_base = 10 ** (base_rating / 400)\n",
    "    R_opponent = 10 ** (1600 / 400)  # Assuming a fixed opponent rating\n",
    "    expected_score = R_base / (R_base + R_opponent)\n",
    "\n",
    "    # Calculate the new rating based on the outcome\n",
    "    actual_score = {'win': 1, 'loss': 0, 'draw': 0.5}[outcome]\n",
    "    new_rating = base_rating + K * (actual_score - expected_score)\n",
    "\n",
    "    return new_rating"
   ]
  },
  {
   "cell_type": "code",
   "execution_count": 3,
   "metadata": {},
   "outputs": [
    {
     "name": "stdout",
     "output_type": "stream",
     "text": [
      "How did the AI agents in OpenAI Five work together?: 1544.8041192047763\n",
      "What project did OpenAI showcase in 2018?: 1534.6085225403153\n",
      "Who founded OpenAI?: 1534.2668516559863\n",
      "What was the initial goal of OpenAI?: 1502.2302022968731\n",
      "What did OpenAI release in 2016?: 1496.9007702720478\n"
     ]
    }
   ],
   "source": [
    "def elo_ratings_func(prompts, elo_ratings, K=30, opponent_rating=1600):\n",
    "    \"\"\"\n",
    "    Update Elo ratings for a list of prompts based on simulated outcomes.\n",
    "\n",
    "    Parameters:\n",
    "    prompts (list): List of prompts to be evaluated.\n",
    "    elo_ratings (dict): Current Elo ratings for each prompt.\n",
    "    K (int): Maximum change in rating.\n",
    "    opponent_rating (int): Fixed rating of the opponent for simulation.\n",
    "\n",
    "    Returns:\n",
    "    dict: Updated Elo ratings.\n",
    "    \"\"\"\n",
    "\n",
    "    for prompt in prompts:\n",
    "        # Simulate an outcome against the standard criteria or another prompt\n",
    "        outcome = random.choice(['win', 'loss', 'draw'])\n",
    "\n",
    "        # Calculate the new rating based on the outcome\n",
    "        actual_score = {'win': 1, 'loss': 0, 'draw': 0.5}[outcome]\n",
    "        R_base = 10 ** (elo_ratings[prompt] / 400)\n",
    "        R_opponent = 10 ** (opponent_rating / 400)\n",
    "        expected_score = R_base / (R_base + R_opponent)\n",
    "        elo_ratings[prompt] += K * (actual_score - expected_score)\n",
    "\n",
    "    return elo_ratings\n",
    "\n",
    "# Example usage\n",
    "prompts = [\"Who founded OpenAI?\", \n",
    "                \"What was the initial goal of OpenAI?\",\n",
    "                \"What did OpenAI release in 2016?\", \n",
    "                \"What project did OpenAI showcase in 2018?\",\n",
    "                \"How did the AI agents in OpenAI Five work together?\"\n",
    "                ]\n",
    "elo_ratings = {prompt: 1500 for prompt in prompts}  # Initial ratings\n",
    "\n",
    "# Conduct multiple rounds of evaluation\n",
    "for _ in range(10):  # Number of rounds\n",
    "    elo_ratings = elo_ratings_func(prompts, elo_ratings)\n",
    "\n",
    "# Sort prompts by their final Elo ratings\n",
    "sorted_prompts = sorted(prompts, key=lambda x: elo_ratings[x], reverse=True)\n",
    "\n",
    "# Print the ranked prompts\n",
    "for prompt in sorted_prompts:\n",
    "    print(f\"{prompt}: {elo_ratings[prompt]}\")"
   ]
  },
  {
   "cell_type": "code",
   "execution_count": 4,
   "metadata": {},
   "outputs": [],
   "source": [
    "def evaluate_prompt(main_prompt, test_cases):\n",
    "    evaluations = {}\n",
    "\n",
    "    # Evaluate the main prompt using Monte Carlo and Elo methods\n",
    "    evaluations['main_prompt'] = {\n",
    "        'Monte Carlo Evaluation': monte_carlo_eval(main_prompt),\n",
    "        'Elo Rating Evaluation': elo_eval(main_prompt)\n",
    "    }\n",
    "\n",
    "    # Evaluate each test case\n",
    "    for idx, test_case in enumerate(test_cases):\n",
    "        evaluations[f'test_case_{idx+1}'] = {\n",
    "            'Monte Carlo Evaluation': monte_carlo_eval(test_case),\n",
    "            'Elo Rating Evaluation': elo_eval(test_case)\n",
    "        }\n",
    "\n",
    "    return evaluations"
   ]
  },
  {
   "cell_type": "code",
   "execution_count": 5,
   "metadata": {},
   "outputs": [
    {
     "name": "stdout",
     "output_type": "stream",
     "text": [
      "{'main_prompt': {'Monte Carlo Evaluation': 1.85, 'Elo Rating Evaluation': 1519.2019499940866}, 'test_case_1': {'Monte Carlo Evaluation': 2.06, 'Elo Rating Evaluation': 1519.2019499940866}, 'test_case_2': {'Monte Carlo Evaluation': 1.99, 'Elo Rating Evaluation': 1519.2019499940866}, 'test_case_3': {'Monte Carlo Evaluation': 2.07, 'Elo Rating Evaluation': 1504.2019499940866}, 'test_case_4': {'Monte Carlo Evaluation': 2.15, 'Elo Rating Evaluation': 1489.2019499940866}, 'test_case_5': {'Monte Carlo Evaluation': 1.91, 'Elo Rating Evaluation': 1519.2019499940866}}\n"
     ]
    }
   ],
   "source": [
    "main_prompt = \"why we use OepenAI?\"\n",
    "test_cases = [\"Who founded OpenAI?\", \n",
    "                \"What was the initial goal of OpenAI?\",\n",
    "                \"What did OpenAI release in 2016?\", \n",
    "                \"What project did OpenAI showcase in 2018?\",\n",
    "                \"How did the AI agents in OpenAI Five work together?\"\n",
    "                ]\n",
    "result = evaluate_prompt(main_prompt, test_cases)\n",
    "print(result)"
   ]
  },
  {
   "cell_type": "code",
   "execution_count": 9,
   "metadata": {},
   "outputs": [
    {
     "ename": "ModuleNotFoundError",
     "evalue": "No module named 'weaviate'",
     "output_type": "error",
     "traceback": [
      "\u001b[0;31m---------------------------------------------------------------------------\u001b[0m",
      "\u001b[0;31mModuleNotFoundError\u001b[0m                       Traceback (most recent call last)",
      "Cell \u001b[0;32mIn[9], line 6\u001b[0m\n\u001b[1;32m      4\u001b[0m \u001b[38;5;28;01mfrom\u001b[39;00m \u001b[38;5;21;01mlangchain\u001b[39;00m\u001b[38;5;21;01m.\u001b[39;00m\u001b[38;5;21;01membeddings\u001b[39;00m \u001b[38;5;28;01mimport\u001b[39;00m OpenAIEmbeddings\n\u001b[1;32m      5\u001b[0m \u001b[38;5;28;01mfrom\u001b[39;00m \u001b[38;5;21;01mlangchain\u001b[39;00m\u001b[38;5;21;01m.\u001b[39;00m\u001b[38;5;21;01mvectorstores\u001b[39;00m \u001b[38;5;28;01mimport\u001b[39;00m Weaviate\n\u001b[0;32m----> 6\u001b[0m \u001b[38;5;28;01mimport\u001b[39;00m \u001b[38;5;21;01mweaviate\u001b[39;00m\n\u001b[1;32m      7\u001b[0m \u001b[38;5;28;01mfrom\u001b[39;00m \u001b[38;5;21;01mweaviate\u001b[39;00m\u001b[38;5;21;01m.\u001b[39;00m\u001b[38;5;21;01membedded\u001b[39;00m \u001b[38;5;28;01mimport\u001b[39;00m EmbeddedOptions\n\u001b[1;32m      8\u001b[0m \u001b[38;5;28;01mfrom\u001b[39;00m \u001b[38;5;21;01mdotenv\u001b[39;00m \u001b[38;5;28;01mimport\u001b[39;00m load_dotenv,find_dotenv\n",
      "\u001b[0;31mModuleNotFoundError\u001b[0m: No module named 'weaviate'"
     ]
    }
   ],
   "source": [
    "import requests\n",
    "from langchain.document_loaders import TextLoader\n",
    "from langchain.text_splitter import CharacterTextSplitter  \n",
    "from langchain.embeddings import OpenAIEmbeddings\n",
    "from langchain.vectorstores import Weaviate\n",
    "import weaviate\n",
    "from weaviate.embedded import EmbeddedOptions\n",
    "from dotenv import load_dotenv,find_dotenv\n",
    "from langchain.embeddings import OpenAIEmbeddings\n",
    "from langchain.vectorstores import Weaviate\n",
    "import weaviate\n",
    "from weaviate.embedded import EmbeddedOptions\n",
    "from dotenv import load_dotenv,find_dotenv\n",
    "from langchain.chat_models import ChatOpenAI\n",
    "from langchain.prompts import ChatPromptTemplate\n",
    "from langchain.schema.runnable import RunnablePassthrough\n",
    "from langchain.schema.output_parser import StrOutputParser"
   ]
  }
 ],
 "metadata": {
  "kernelspec": {
   "display_name": "rag_env",
   "language": "python",
   "name": "python3"
  },
  "language_info": {
   "codemirror_mode": {
    "name": "ipython",
    "version": 3
   },
   "file_extension": ".py",
   "mimetype": "text/x-python",
   "name": "python",
   "nbconvert_exporter": "python",
   "pygments_lexer": "ipython3",
   "version": "3.10.12"
  }
 },
 "nbformat": 4,
 "nbformat_minor": 2
}
